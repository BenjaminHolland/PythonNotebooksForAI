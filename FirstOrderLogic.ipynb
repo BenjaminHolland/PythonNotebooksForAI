{
 "cells": [
  {
   "cell_type": "markdown",
   "metadata": {
    "collapsed": true
   },
   "source": [
    "# Logic: `logic.py`; Chapters 6-8"
   ]
  },
  {
   "cell_type": "markdown",
   "metadata": {},
   "source": [
    "This notebook describes the [logic.py](https://github.com/aimacode/aima-python/blob/master/logic.py) module, which covers Chapters 6 (Logical Agents),  7 (First-Order Logic) and  8 (Inference in First-Order Logic) of *[Artificial Intelligence: A Modern Approach](http://aima.cs.berkeley.edu)*. See the [intro notebook](https://github.com/aimacode/aima-python/blob/master/intro.ipynb) for instructions.\n",
    "\n",
    "We'll start by looking at `Expr`, the data type for logical sentences, and the convenience function `expr`. We'll be covering two types of knowledge bases, `PropKB` - Propositional logic knowledge base and `FolKB` - First order logic knowledge base. We will construct a propositional knowledge base of a specific situation in the Wumpus World. We will next go through the `tt_entails` function and experiment with it a bit. The `pl_resolution` and `pl_fc_entails` functions will come next. We'll study forward chaining and backward chaining algorithms for `FolKB` and use them on `crime_kb` knowledge base.\n",
    "\n",
    "But the first step is to load the code:"
   ]
  },
  {
   "cell_type": "code",
   "execution_count": 1,
   "metadata": {},
   "outputs": [],
   "source": [
    "from utils import *\n",
    "from logic import *\n",
    "from notebook import psource"
   ]
  },
  {
   "cell_type": "markdown",
   "metadata": {
    "collapsed": true
   },
   "source": [
    "## Logical Sentences"
   ]
  },
  {
   "cell_type": "markdown",
   "metadata": {},
   "source": [
    "The `Expr` class is designed to represent any kind of mathematical expression. The simplest type of `Expr` is a symbol, which can be defined with the function `Symbol`:"
   ]
  },
  {
   "cell_type": "code",
   "execution_count": 2,
   "metadata": {},
   "outputs": [
    {
     "data": {
      "text/plain": [
       "x"
      ]
     },
     "execution_count": 2,
     "metadata": {},
     "output_type": "execute_result"
    }
   ],
   "source": [
    "Symbol('x')"
   ]
  },
  {
   "cell_type": "markdown",
   "metadata": {},
   "source": [
    "Or we can define multiple symbols at the same time with the function `symbols`:"
   ]
  },
  {
   "cell_type": "code",
   "execution_count": 3,
   "metadata": {},
   "outputs": [],
   "source": [
    "(x, y, P, Q, f) = symbols('x, y, P, Q, f')"
   ]
  },
  {
   "cell_type": "markdown",
   "metadata": {},
   "source": [
    "We can combine `Expr`s with the regular Python infix and prefix operators. Here's how we would form the logical sentence \"P and not Q\":"
   ]
  },
  {
   "cell_type": "code",
   "execution_count": 4,
   "metadata": {},
   "outputs": [
    {
     "data": {
      "text/plain": [
       "(P & ~Q)"
      ]
     },
     "execution_count": 4,
     "metadata": {},
     "output_type": "execute_result"
    }
   ],
   "source": [
    "P & ~Q"
   ]
  },
  {
   "cell_type": "markdown",
   "metadata": {},
   "source": [
    "This works because the `Expr` class overloads the `&` operator with this definition:\n",
    "\n",
    "```python\n",
    "def __and__(self, other): return Expr('&',  self, other)```\n",
    "     \n",
    "and does similar overloads for the other operators. An `Expr` has two fields: `op` for the operator, which is always a string, and `args` for the arguments, which is a tuple of 0 or more expressions. By \"expression,\" I mean either an instance of `Expr`, or a number. Let's take a look at the fields for some `Expr` examples:"
   ]
  },
  {
   "cell_type": "code",
   "execution_count": 5,
   "metadata": {},
   "outputs": [
    {
     "data": {
      "text/plain": [
       "'&'"
      ]
     },
     "execution_count": 5,
     "metadata": {},
     "output_type": "execute_result"
    }
   ],
   "source": [
    "sentence = P & ~Q\n",
    "\n",
    "sentence.op"
   ]
  },
  {
   "cell_type": "code",
   "execution_count": 6,
   "metadata": {},
   "outputs": [
    {
     "data": {
      "text/plain": [
       "(P, ~Q)"
      ]
     },
     "execution_count": 6,
     "metadata": {},
     "output_type": "execute_result"
    }
   ],
   "source": [
    "sentence.args"
   ]
  },
  {
   "cell_type": "code",
   "execution_count": 7,
   "metadata": {},
   "outputs": [
    {
     "data": {
      "text/plain": [
       "'P'"
      ]
     },
     "execution_count": 7,
     "metadata": {},
     "output_type": "execute_result"
    }
   ],
   "source": [
    "P.op"
   ]
  },
  {
   "cell_type": "code",
   "execution_count": 8,
   "metadata": {},
   "outputs": [
    {
     "data": {
      "text/plain": [
       "()"
      ]
     },
     "execution_count": 8,
     "metadata": {},
     "output_type": "execute_result"
    }
   ],
   "source": [
    "P.args"
   ]
  },
  {
   "cell_type": "code",
   "execution_count": 9,
   "metadata": {},
   "outputs": [
    {
     "data": {
      "text/plain": [
       "'P'"
      ]
     },
     "execution_count": 9,
     "metadata": {},
     "output_type": "execute_result"
    }
   ],
   "source": [
    "Pxy = P(x, y)\n",
    "\n",
    "Pxy.op"
   ]
  },
  {
   "cell_type": "code",
   "execution_count": 10,
   "metadata": {},
   "outputs": [
    {
     "data": {
      "text/plain": [
       "(x, y)"
      ]
     },
     "execution_count": 10,
     "metadata": {},
     "output_type": "execute_result"
    }
   ],
   "source": [
    "Pxy.args"
   ]
  },
  {
   "cell_type": "markdown",
   "metadata": {},
   "source": [
    "It is important to note that the `Expr` class does not define the *logic* of Propositional Logic sentences; it just gives you a way to *represent* expressions. Think of an `Expr` as an [abstract syntax tree](https://en.wikipedia.org/wiki/Abstract_syntax_tree).  Each of the `args` in an `Expr` can be either a symbol, a number, or a nested `Expr`. We can nest these trees to any depth. Here is a deply nested `Expr`:"
   ]
  },
  {
   "cell_type": "code",
   "execution_count": 11,
   "metadata": {},
   "outputs": [
    {
     "data": {
      "text/plain": [
       "(((3 * f(x, y)) + (P(y) / 2)) + 1)"
      ]
     },
     "execution_count": 11,
     "metadata": {},
     "output_type": "execute_result"
    }
   ],
   "source": [
    "3 * f(x, y) + P(y) / 2 + 1"
   ]
  },
  {
   "cell_type": "markdown",
   "metadata": {},
   "source": [
    "## Operators for Constructing Logical Sentences\n",
    "\n",
    "Here is a table of the operators that can be used to form sentences. Note that we have a problem: we want to use Python operators to make sentences, so that our programs (and our interactive sessions like the one here) will show simple code. But Python does not allow implication arrows as operators, so for now we have to use a more verbose notation that Python does allow: `|'==>'|` instead of just `==>`. Alternately, you can always use the more verbose `Expr` constructor forms:\n",
    "\n",
    "| Operation                | Book | Python Infix Input | Python Output | Python `Expr` Input\n",
    "|--------------------------|----------------------|-------------------------|---|---|\n",
    "| Negation                 | &not; P      | `~P`                       | `~P` | `Expr('~', P)`\n",
    "| And                      | P &and; Q       | `P & Q`                     | `P & Q` | `Expr('&', P, Q)`\n",
    "| Or                       | P &or; Q | `P`<tt> &#124; </tt>`Q`| `P`<tt> &#124; </tt>`Q` | `Expr('`&#124;`', P, Q)`\n",
    "| Inequality (Xor)         | P &ne; Q     | `P ^ Q`                | `P ^ Q`  | `Expr('^', P, Q)`\n",
    "| Implication                  | P &rarr; Q    | `P` <tt>&#124;</tt>`'==>'`<tt>&#124;</tt> `Q`   | `P ==> Q` | `Expr('==>', P, Q)`\n",
    "| Reverse Implication      | Q &larr; P     | `Q` <tt>&#124;</tt>`'<=='`<tt>&#124;</tt> `P`  |`Q <== P` | `Expr('<==', Q, P)`\n",
    "| Equivalence            | P &harr; Q   | `P` <tt>&#124;</tt>`'<=>'`<tt>&#124;</tt> `Q`   |`P <=> Q` | `Expr('<=>', P, Q)`\n",
    "\n",
    "Here's an example of defining a sentence with an implication arrow:"
   ]
  },
  {
   "cell_type": "code",
   "execution_count": 12,
   "metadata": {},
   "outputs": [
    {
     "data": {
      "text/plain": [
       "(~(P & Q) ==> (~P | ~Q))"
      ]
     },
     "execution_count": 12,
     "metadata": {},
     "output_type": "execute_result"
    }
   ],
   "source": [
    "~(P & Q)  |'==>'|  (~P | ~Q)"
   ]
  },
  {
   "cell_type": "markdown",
   "metadata": {},
   "source": [
    "### Animal Classification"
   ]
  },
  {
   "cell_type": "code",
   "execution_count": 13,
   "metadata": {},
   "outputs": [
    {
     "name": "stdout",
     "output_type": "stream",
     "text": [
      "done\n"
     ]
    }
   ],
   "source": [
    "\n",
    "clauses = []\n",
    "\n",
    "### I1. If the animal has hair then it is a mammal\n",
    "clauses.append(expr(\"(Hair(x) ==> Mammal(x))\"))\n",
    "\n",
    "### I2. If the animal gives milk then it is a mammal\n",
    "clauses.append(expr(\"(GivesMilk(x) ==> Mammal(x))\"))\n",
    "\n",
    "### I3. If the animal has feathers then it is a bird\n",
    "clauses.append(expr(\"(HasFeathers(x) ==> Bird(x))\"))\n",
    "\n",
    "### I4. If the animal flies and it lays eggs then it is a bird\n",
    "clauses.append(expr(\"(Flies(x) & LaysEggs(x) ==> Bird(x))\"))\n",
    "\n",
    "### I5. If the animal is a mammal and it eats meat then it is a carnivore\n",
    "clauses.append(expr(\"(Mammal(x) & EatsMeat(x) ==> Carnivore(x))\"))\n",
    "\n",
    "### I6. If the animal is a mammal and it has pointed teeth and it has claws and its eyes point forward\n",
    "###   then it is a carnivore\n",
    "clauses.append(expr(\"(Mammal(x) & PointedTeeth(x) & HasClaws(x) & EyesPointForward(x) ==> Carnivore(x))\"))\n",
    "\n",
    "### I7. If the animal is a mammal and it has hoofs then it is an ungulate\n",
    "clauses.append(expr(\"(Mammal(x) & HasHoofs(x) ==> Ungulate(x))\"))\n",
    "\n",
    "### 18. If the animal is a mammal and it chews cud then it is an ungulate\n",
    "clauses.append(expr(\"(Mammal(x) & ChewsCud(x) ==> Ungulate(x))\"))\n",
    "\n",
    "### I9. If the animal is a carnivore and it has a tawny color and it has dark spots then it is a cheetah\n",
    "clauses.append(expr(\"(Carnivore(x) & TawnyColor(x) & DarkSpots(x) ==> Cheetah(x))\"))\n",
    "\n",
    "### I10. If the animal is a carnivore and it has a tawny color and it has black stripes then it is a tiger\n",
    "clauses.append(expr(\"(Carnivore(x) & TawnyColor(x) & BlackStripes(x) ==> Tiger(x))\"))\n",
    "\n",
    "### I11. If the animal is an ungulate and it has long legs and it has a long neck and it has a tawny color\n",
    "###   and it has dark spots then it is a giraffe\n",
    "clauses.append(expr(\"(Ungulate(x) & TawnyColor(x) & LongLegs(x) & LongNeck(x) & DarkSpots(x) ==> Giraffe(x))\"))\n",
    "\n",
    "### I12. If the animal is an ungulate and it has a white color and it has black stripes then it is a zebra\n",
    "clauses.append(expr(\"(Ungulate(x) & WhiteColor(x) & BlackStripes(x) ==> Zebra(x))\"))\n",
    "\n",
    "### Il3. If the animal is a bird and it does not fly and it has long legs and it has a long neck and it is black\n",
    "###   and white then it is an ostrich,\n",
    "clauses.append(expr(\"(Bird(x) & DoesNotFly(x) & LongLegs(x) & LongNeck(x) & BlackAndWhite(x) ==> Ostrich(x))\"))\n",
    "\n",
    "### Il4. If the animal is a bird and it does not fly and it swims and it is black and white then it is a\n",
    "###    penguin\n",
    "clauses.append(expr(\"(Bird(x) & DoesNotFly(x) & Swims(x) & BlackAndWhite(x) ==> Penguin(x))\"))\n",
    "\n",
    "### Il5. If the animal is a bird and it is a good flyer then it is an albatross.\n",
    "clauses.append(expr(\"(Bird(x) & GoodFlyer(x) ==> Albatross(x))\"))\n",
    "\n",
    "animals_kb = FolKB(clauses)\n",
    "print(\"done\")"
   ]
  },
  {
   "cell_type": "code",
   "execution_count": 14,
   "metadata": {},
   "outputs": [],
   "source": [
    "animals_kb.tell(expr(\"GivesMilk(Animal1)\"))\n",
    "animals_kb.tell(expr(\"HasHoofs(Animal1)\"))\n",
    "animals_kb.tell(expr(\"EatsMeat(Animal1)\"))\n",
    "animals_kb.tell(expr(\"TawnyColor(Animal1)\"))\n",
    "animals_kb.tell(expr(\"BlackStripes(Animal1)\"))\n",
    "\n",
    "animals_kb.tell(expr(\"GivesMilk(Animal2)\"))\n",
    "animals_kb.tell(expr(\"HasHoofs(Animal2)\"))\n",
    "animals_kb.tell(expr(\"EatsMeat(Animal2)\"))\n",
    "animals_kb.tell(expr(\"WhiteColor(Animal2)\"))\n",
    "animals_kb.tell(expr(\"BlackStripes(Animal2)\"))\n",
    "\n",
    "animals_kb.tell(expr(\"Flies(Animal3)\"))\n",
    "animals_kb.tell(expr(\"LaysEggs(Animal3)\"))\n",
    "animals_kb.tell(expr(\"GoodFlyer(Animal3)\"))\n",
    "\n",
    "animals_kb.tell(expr(\"HasFeathers(Animal4)\"))\n",
    "animals_kb.tell(expr(\"DoesNotFly(Animal4)\"))\n",
    "animals_kb.tell(expr(\"Swims(Animal4)\"))\n",
    "animals_kb.tell(expr(\"BlackAndWhite(Animal4)\"))\n"
   ]
  },
  {
   "cell_type": "code",
   "execution_count": 15,
   "metadata": {},
   "outputs": [
    {
     "data": {
      "text/plain": [
       "[{v_16: y, y: Animal1}, {v_16: y, y: Animal2}]"
      ]
     },
     "execution_count": 15,
     "metadata": {},
     "output_type": "execute_result"
    }
   ],
   "source": [
    "list(fol_bc_ask(animals_kb, expr('Mammal(y)')))"
   ]
  },
  {
   "cell_type": "code",
   "execution_count": 16,
   "metadata": {},
   "outputs": [
    {
     "data": {
      "text/plain": [
       "[{v_49: y, v_66: y, y: Animal1}, {v_49: y, v_66: y, y: Animal2}]"
      ]
     },
     "execution_count": 16,
     "metadata": {},
     "output_type": "execute_result"
    }
   ],
   "source": [
    "list(fol_bc_ask(animals_kb, expr('Carnivore(y)')))"
   ]
  },
  {
   "cell_type": "code",
   "execution_count": 11,
   "metadata": {},
   "outputs": [
    {
     "data": {
      "text/plain": [
       "[{v_326: y, v_333: y, v_350: y, y: Animal2}]"
      ]
     },
     "execution_count": 11,
     "metadata": {},
     "output_type": "execute_result"
    }
   ],
   "source": [
    "list(fol_bc_ask(animals_kb, expr('Zebra(y)')))"
   ]
  },
  {
   "cell_type": "code",
   "execution_count": null,
   "metadata": {},
   "outputs": [],
   "source": [
    "list(fol_fc_ask(animals_kb, expr('Cheetah(y)')))"
   ]
  },
  {
   "cell_type": "code",
   "execution_count": null,
   "metadata": {},
   "outputs": [],
   "source": [
    "list(fol_fc_ask(animals_kb, expr('Tiger(y)')))"
   ]
  },
  {
   "cell_type": "code",
   "execution_count": null,
   "metadata": {},
   "outputs": [],
   "source": [
    "list(fol_fc_ask(animals_kb, expr('Giraffe(y)')))"
   ]
  },
  {
   "cell_type": "code",
   "execution_count": 10,
   "metadata": {},
   "outputs": [
    {
     "data": {
      "text/plain": [
       "[{v_257: y, y: Animal4}, {v_273: y, y: Animal3}]"
      ]
     },
     "execution_count": 10,
     "metadata": {},
     "output_type": "execute_result"
    }
   ],
   "source": [
    "list(fol_bc_ask(animals_kb, expr('Bird(y)')))"
   ]
  },
  {
   "cell_type": "code",
   "execution_count": null,
   "metadata": {},
   "outputs": [],
   "source": [
    "list(fol_bc_ask(animals_kb, expr('Ostrich(y)')))"
   ]
  },
  {
   "cell_type": "code",
   "execution_count": 17,
   "metadata": {},
   "outputs": [
    {
     "data": {
      "text/plain": [
       "[{v_223: y, v_226: y, y: Animal4}]"
      ]
     },
     "execution_count": 17,
     "metadata": {},
     "output_type": "execute_result"
    }
   ],
   "source": [
    "list(fol_bc_ask(animals_kb, expr('Penguin(y)')))"
   ]
  },
  {
   "cell_type": "code",
   "execution_count": null,
   "metadata": {},
   "outputs": [],
   "source": [
    "list(fol_bc_ask(animals_kb, expr('Albatross(y)')))"
   ]
  },
  {
   "cell_type": "code",
   "execution_count": null,
   "metadata": {},
   "outputs": [],
   "source": []
  }
 ],
 "metadata": {
  "kernelspec": {
   "display_name": "Python 3",
   "language": "python",
   "name": "python3"
  },
  "language_info": {
   "codemirror_mode": {
    "name": "ipython",
    "version": 3
   },
   "file_extension": ".py",
   "mimetype": "text/x-python",
   "name": "python",
   "nbconvert_exporter": "python",
   "pygments_lexer": "ipython3",
   "version": "3.6.5"
  }
 },
 "nbformat": 4,
 "nbformat_minor": 1
}
