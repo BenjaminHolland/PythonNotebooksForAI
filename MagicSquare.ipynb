{
 "cells": [
  {
   "cell_type": "code",
   "execution_count": null,
   "metadata": {},
   "outputs": [],
   "source": [
    "Magic square search\n"
   ]
  },
  {
   "cell_type": "code",
   "execution_count": null,
   "metadata": {},
   "outputs": [],
   "source": [
    "def main():\n",
    "\n",
    "    \"\"\"Open the file, parse the input and check if it is a magic cube\"\"\"\n",
    "\n",
    "    with open(\"Magic Square Input.txt\") as f:\n",
    "\n",
    "        for line in f.readlines():\n",
    "\n",
    "            numbers = line.split(\" \")\n",
    "            cube = [int(x) for x in numbers]            \n",
    "            is_magic(cube)\n",
    "\n",
    "\n",
    "def is_magic(cube):\n",
    "\n",
    "    \"\"\"Check if cube is magic.\n",
    "    There are two conditions that must be satisfied:\n",
    "    1 - There must not be any repetitions of the numbers\n",
    "    2 - All vertical/horizontal/diagonal sums must be 15\n",
    "    \"\"\"\n",
    "\n",
    "    if not dupe(cube) and check_sum(cube):        \n",
    "        print ('Valid')\n",
    "\n",
    "    else:        \n",
    "        print ('Invalid')\n",
    "\n",
    "\n",
    "def dupe(cube):\n",
    "\n",
    "    \"\"\"Check if there are repetitions in the cube.\"\"\"\n",
    "\n",
    "    if len(cube) == len(set(cube)):        \n",
    "        return False\n",
    "    return True\n",
    "\n",
    "\n",
    "\n",
    "def check_sum(cube):\n",
    "\n",
    "    \"\"\"Check if all vertical/horizontal/diagonal sums are 15\"\"\"\n",
    "\n",
    "    if vertical_check(cube) and horizontal_check(cube) and diagonal_check(cube):        \n",
    "        return True\n",
    "\n",
    "\n",
    "def vertical_check(cube):\n",
    "\n",
    "    if sum(cube[0:9:3]) == sum(cube[1:9:3]) == sum(cube[2:9:3]) == 15:      \n",
    "        return True    \n",
    "    return False\n",
    "\n",
    "\n",
    "def horizontal_check(cube):\n",
    "\n",
    "    if sum(cube[0:3]) == sum(cube[3:6]) == sum(cube[6:9]) == 15:      \n",
    "        return True    \n",
    "    return False\n",
    "\n",
    "\n",
    "def diagonal_check(cube):\n",
    "\n",
    "    if sum(cube[0:9:4]) == sum(cube[2:7:2]) == 15:      \n",
    "        return True    \n",
    "    return False\n",
    "\n",
    "main()"
   ]
  },
  {
   "cell_type": "markdown",
   "metadata": {},
   "source": [
    "### Now will create an algorithm to solve this puzzle."
   ]
  },
  {
   "cell_type": "code",
   "execution_count": null,
   "metadata": {},
   "outputs": [],
   "source": []
  }
 ],
 "metadata": {
  "kernelspec": {
   "display_name": "Python 3",
   "language": "python",
   "name": "python3"
  },
  "language_info": {
   "codemirror_mode": {
    "name": "ipython",
    "version": 3
   },
   "file_extension": ".py",
   "mimetype": "text/x-python",
   "name": "python",
   "nbconvert_exporter": "python",
   "pygments_lexer": "ipython3",
   "version": "3.6.5"
  }
 },
 "nbformat": 4,
 "nbformat_minor": 2
}
