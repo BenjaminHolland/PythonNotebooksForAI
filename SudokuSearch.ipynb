{
 "cells": [
  {
   "cell_type": "code",
   "execution_count": 2,
   "metadata": {
    "collapsed": false
   },
   "outputs": [
    {
     "name": "stdout",
     "output_type": "stream",
     "text": [
      "sudoku\n"
     ]
    }
   ],
   "source": [
    "print (\"sudoku\")\n"
   ]
  },
  {
   "cell_type": "code",
   "execution_count": 3,
   "metadata": {
    "collapsed": false
   },
   "outputs": [
    {
     "name": "stdout",
     "output_type": "stream",
     "text": [
      "True\n",
      "['a1', 'a2', 'a3', 'a4', 'a5', 'a6', 'a7', 'a8', 'a9', 'b1', 'b2', 'b3', 'b4', 'b5', 'b6', 'b7', 'b8', 'b9', 'c1', 'c2', 'c3', 'c4', 'c5', 'c6', 'c7', 'c8', 'c9', 'd1', 'd2', 'd3', 'd4', 'd5', 'd6', 'd7', 'd8', 'd9', 'e1', 'e2', 'e3', 'e4', 'e5', 'e6', 'e7', 'e8', 'e9', 'f1', 'f2', 'f3', 'f4', 'f5', 'f6', 'f7', 'f8', 'f9', 'g1', 'g2', 'g3', 'g4', 'g5', 'g6', 'g7', 'g8', 'g9', 'h1', 'h2', 'h3', 'h4', 'h5', 'h6', 'h7', 'h8', 'h9', 'i1', 'i2', 'i3', 'i4', 'i5', 'i6', 'i7', 'i8', 'i9']\n"
     ]
    },
    {
     "data": {
      "text/plain": [
       "{'a9',\n",
       " 'b9',\n",
       " 'c9',\n",
       " 'd9',\n",
       " 'e9',\n",
       " 'f9',\n",
       " 'g7',\n",
       " 'g8',\n",
       " 'g9',\n",
       " 'h7',\n",
       " 'h8',\n",
       " 'h9',\n",
       " 'i1',\n",
       " 'i2',\n",
       " 'i3',\n",
       " 'i4',\n",
       " 'i5',\n",
       " 'i6',\n",
       " 'i7',\n",
       " 'i8'}"
      ]
     },
     "execution_count": 3,
     "metadata": {},
     "output_type": "execute_result"
    }
   ],
   "source": [
    "import sys\n",
    "\n",
    "row = 'abcdefghi'\n",
    "column = '123456789'\n",
    "print (len(row)==len(column))\n",
    "\n",
    "\n",
    "def get_peers_digits(box, dict1):\n",
    "    #print(box)\n",
    "    digits = set()\n",
    "\n",
    "    r = box[0]\n",
    "    c = box[1]\n",
    "    \n",
    "    #same row\n",
    "    for i in column:\n",
    "        if i != c:\n",
    "            if (dict1[r+i] != '.' and len(dict1[r+i]) ==1):\n",
    "                digits.add(dict1[r+i])\n",
    "        \n",
    "    #same column\n",
    "    for i in row:\n",
    "        if i != r:\n",
    "            if (dict1[i+c] != '.' and len(dict1[i+c]) ==1):\n",
    "                digits.add(dict1[i+c])\n",
    "        \n",
    "    #same square\n",
    "    # the beginning of a square\n",
    "    r_idx = 0\n",
    "    for i in range(len(row)):\n",
    "        if row[i] == r:\n",
    "            r_idx = i\n",
    "    c_idx = int(c)-1\n",
    "    square_r = r_idx - r_idx %3\n",
    "    square_c = c_idx - c_idx %3\n",
    "    for i in range(3):\n",
    "        for j in range(3):\n",
    "            r = row[square_r + i]\n",
    "            c = column[square_c + j]\n",
    "            if ((r+c) != box):\n",
    "                if (dict1[r+c] != '.' and len(dict1[r+c]) ==1):\n",
    "                    digits.add(dict1[r+c])\n",
    "    return digits\n",
    "\n",
    "def get_peers(box):\n",
    "    #print(box)\n",
    "    unit = set()\n",
    "\n",
    "    r = box[0]\n",
    "    c = box[1]\n",
    "    \n",
    "    #same row\n",
    "    for i in column:\n",
    "        if i != c:\n",
    "           unit.add((r+i))\n",
    "        \n",
    "    #same column\n",
    "    for i in row:\n",
    "        if i != r:\n",
    "           unit.add((i+c)) \n",
    "        \n",
    "    #same square\n",
    "    # the beginning of a square\n",
    "    r_idx = 0\n",
    "    for i in range(len(row)):\n",
    "        if row[i] == r:\n",
    "            r_idx = i\n",
    "    c_idx = int(c)-1\n",
    "    square_r = r_idx - r_idx %3\n",
    "    square_c = c_idx - c_idx %3\n",
    "    for i in range(3):\n",
    "        for j in range(3):\n",
    "            r = row[square_r + i]\n",
    "            c = column[square_c + j]\n",
    "            if ((r+c) != box):\n",
    "               unit.add(r+c)\n",
    "  \n",
    "    return unit\n",
    "\n",
    "    \n",
    "def cross(row, column):\n",
    "    boxes = []\n",
    "    for r in row:\n",
    "        for c in column:\n",
    "            boxes.append(r+c)\n",
    "    print (boxes)\n",
    "    return boxes\n",
    "    \n",
    "boxes = cross(row, column) \n",
    "\n",
    "get_peers(boxes[80])\n"
   ]
  },
  {
   "cell_type": "code",
   "execution_count": 4,
   "metadata": {
    "collapsed": false
   },
   "outputs": [
    {
     "data": {
      "text/plain": [
       "'\\ndoes the box contain 2 digits?\\nany box in the same square, row, column contains the same 2 digits?\\nIf so, they are naked twins. Go through all the peers, remove 2 digits from them\\n\\nis the box on diagonal?\\nif so, remove digits that have shown up in the same diagonal\\nis the box on the center of the diagonal?\\nif so, remove digits that have shown up in two diagonals\\n'"
      ]
     },
     "execution_count": 4,
     "metadata": {},
     "output_type": "execute_result"
    }
   ],
   "source": [
    "#How do we apply constraint propagation to solve the naked twins problem?\n",
    "#How do we apply constraint propagation to solve the diagonal sudoku problem?\n",
    "\n",
    "\n",
    "'''\n",
    "does the box contain 2 digits?\n",
    "any box in the same square, row, column contains the same 2 digits?\n",
    "If so, they are naked twins. Go through all the peers, remove 2 digits from them\n",
    "\n",
    "is the box on diagonal?\n",
    "if so, remove digits that have shown up in the same diagonal\n",
    "is the box on the center of the diagonal?\n",
    "if so, remove digits that have shown up in two diagonals\n",
    "'''"
   ]
  },
  {
   "cell_type": "code",
   "execution_count": 5,
   "metadata": {
    "collapsed": false
   },
   "outputs": [
    {
     "name": "stdout",
     "output_type": "stream",
     "text": [
      "81\n"
     ]
    }
   ],
   "source": [
    "# a simple sudoku from Udacity\n",
    "#values = '..3.2.6..9..3.5..1..18.64....81.29..7.......8..67.82....26.95..8..2.3..9..5.1.3..'\n",
    "\n",
    "\n",
    "values = '4.....8.5.3..........7......2.....6.....8.4......1.......6.3.7.5..2.....1.4......'\n",
    "\n",
    "print(len(values))"
   ]
  },
  {
   "cell_type": "code",
   "execution_count": 6,
   "metadata": {
    "collapsed": false
   },
   "outputs": [
    {
     "name": "stdout",
     "output_type": "stream",
     "text": [
      "{'5', '3', '1', '8'}\n",
      "5318 <class 'str'>\n"
     ]
    }
   ],
   "source": [
    "# convert it to dict\n",
    "dictn = {}\n",
    "for i in range(len(values)):\n",
    "    val = values[i]\n",
    "    r_idx = int(i/9)\n",
    "    c_idx = i%9\n",
    "    #print (r_idx, c_idx)\n",
    "    #print(row[r_idx] + column[c_idx], values[i])\n",
    "    dictn[row[r_idx] + column[c_idx]] = values[i]\n",
    "#print(dictn)\n",
    "\n",
    "x = get_peers_digits('a1', dictn)\n",
    "print(x)\n",
    "y = ''.join(x)\n",
    "print(y, type(y))"
   ]
  },
  {
   "cell_type": "code",
   "execution_count": 7,
   "metadata": {
    "collapsed": false
   },
   "outputs": [
    {
     "name": "stdout",
     "output_type": "stream",
     "text": [
      "4   .   .   .   .   .   8   .   5   \n",
      ".   3   .   .   .   .   .   .   .   \n",
      ".   .   .   7   .   .   .   .   .   \n",
      ".   2   .   .   .   .   .   6   .   \n",
      ".   .   .   .   8   .   4   .   .   \n",
      ".   .   .   .   1   .   .   .   .   \n",
      ".   .   .   6   .   3   .   7   .   \n",
      "5   .   .   2   .   .   .   .   .   \n",
      "1   .   4   .   .   .   .   .   .   \n"
     ]
    }
   ],
   "source": [
    "# print them in a visual format\n",
    "def print_sudoku():\n",
    "    for r in row:\n",
    "        one_row = ''\n",
    "        for c in column:\n",
    "            one_row += (dictn[r+c] + '   ')\n",
    "        print(one_row)\n",
    "        \n",
    "print_sudoku()   \n",
    "\n",
    "\n"
   ]
  },
  {
   "cell_type": "code",
   "execution_count": 8,
   "metadata": {
    "collapsed": false
   },
   "outputs": [],
   "source": [
    "# replace . with a bunch of digits\n",
    "\n",
    "def constraint():\n",
    "    flag = True\n",
    "    max_count = 81\n",
    "    count = 0\n",
    "    while (flag == True and count < max_count):\n",
    "        print_sudoku() \n",
    "        flag = False\n",
    "        print(\"\\n\\n\\n ITERATION \", count)\n",
    "        count += 1\n",
    "        for r in row:\n",
    "            for c in column:\n",
    "                if dictn[r+c] == '.' or len(dictn[r+c]) > 1:\n",
    "                    digits = get_peers_digits(r+c, dictn)        \n",
    "\n",
    "                    possible_digits = ''.join({'1','2','3','4','5','6','7','8','9'}.difference(digits)) \n",
    "                    if (len(possible_digits) == 1):\n",
    "                        print(\"WOW, \", r+c, digits, possible_digits)\n",
    "                        flag = True\n",
    "                    if dictn[r+c] != possible_digits:\n",
    "                        print(r+c, \"replace \", dictn[r+c], \" with \", possible_digits)\n",
    "                        dictn[r+c] = possible_digits\n",
    "       \n",
    "\n",
    "    return flag"
   ]
  },
  {
   "cell_type": "code",
   "execution_count": 9,
   "metadata": {
    "collapsed": true
   },
   "outputs": [],
   "source": [
    "# only choice\n",
    "# TODO, instead of loop through each box (81), loop through each unit (27)\n",
    "def only_choice():\n",
    "    print(\"\\n\\n\\n only_choice\")\n",
    "    flag = False\n",
    "    for r in row:\n",
    "        for c in column:\n",
    "            if len(dictn[r+c]) > 1:\n",
    "                #digits = get_peers_digits(r+c, dictn)        \n",
    "                peers = get_peers(r+c)        \n",
    "                digits = ''\n",
    "                for box in peers:\n",
    "                    if (len(dictn[box]) > 1):\n",
    "                        digits += dictn[box]\n",
    "                       \n",
    "                for d in dictn[r+c]:\n",
    "                    if d not in digits:\n",
    "                        print(r+c, \"peers digits are \", digits, \" replace \", dictn[r+c], \" with \", d)\n",
    "                        dictn[r+c] = d\n",
    "                        flag = True\n",
    "                        \n",
    "    if flag:\n",
    "        constraint()\n",
    "        print_sudoku() \n",
    "    return flag"
   ]
  },
  {
   "cell_type": "code",
   "execution_count": 10,
   "metadata": {
    "collapsed": false
   },
   "outputs": [],
   "source": [
    "\n",
    " \n",
    "def naked_twins():\n",
    "    for r in row:\n",
    "        for c in column:\n",
    "            if len(dictn[r+c]) == 2:\n",
    "                peers = get_peers(r+c)        \n",
    "                for box in peers:\n",
    "                    if (dictn[box] == dictn[r+c]):\n",
    "                        print(\"Naked twins at \", r+c, box)\n",
    "                        twin_box = box\n",
    "                        all_peers = peers | get_peers(twin_box) \n",
    "                        print(\"all peers \", all_peers, len(all_peers))\n",
    "                        for box in all_peers:\n",
    "                            if ((box == twin_box or box == r+c) == False and len(dictn[box]) > 1):\n",
    "                                    digits = ''\n",
    "                                    for d in dictn[box]:\n",
    "                                        if d not in dictn[twin_box]:\n",
    "                                            digits += d\n",
    "                                    print(\"for \", box, \" overwrite \", dictn[box], \" with \")        \n",
    "                                    dictn[box] = digits \n",
    "                                    print(digits)\n",
    "                        return True\n",
    "                                                        \n",
    "    return False\n",
    "   \n"
   ]
  },
  {
   "cell_type": "code",
   "execution_count": 11,
   "metadata": {
    "collapsed": false
   },
   "outputs": [
    {
     "name": "stdout",
     "output_type": "stream",
     "text": [
      "{'C': ['D', 'S', 'E', 'F'], 'G': ['S', 'F', 'H'], 'F': ['C', 'G'], 'H': ['G', 'E'], 'E': ['C', 'H'], 'B': ['A'], 'A': ['B', 'S'], 'D': ['C'], 'S': ['A', 'G', 'C']}\n",
      "['A']\n",
      "A\n"
     ]
    },
    {
     "data": {
      "text/plain": [
       "'\\n\\n    while len(graph_stack) > 0: \\n\\n        if node not in visited_vertices: \\n            visited_vertices.append(node) \\n\\n        adj_nodes = graph[node] \\n\\n\\n        if set(adj_nodes).issubset(set(visited_vertices)): \\n            graph_stack.pop() \\n        if len(graph_stack) > 0: \\n            node = graph_stack[-1] \\n            continue \\n        else: \\n            remaining_elements = \\n            set(adj_nodes).difference(set(visited_vertices)) \\n\\n\\n        first_adj_node = sorted(remaining_elements)[0] \\n        graph_stack.append(first_adj_node) \\n        node = first_adj_node \\n            return visited_vertices \\n\\nif set(adj_nodes).issubset(set(visited_vertices)): \\n    graph_stack.pop() \\n    if len(graph_stack) > 0: \\n        node = graph_stack[-1] \\n    continue \\n\\nfirst_adj_node = sorted(remaining_elements)[0] \\ngraph_stack.append(first_adj_node) \\nnode = first_adj_node \\n'"
      ]
     },
     "execution_count": 11,
     "metadata": {},
     "output_type": "execute_result"
    }
   ],
   "source": [
    "graph = dict() \n",
    "graph['A'] = ['B', 'S'] \n",
    "graph['B'] = ['A'] \n",
    "graph['S'] = ['A','G','C'] \n",
    "graph['D'] = ['C'] \n",
    "graph['G'] = ['S','F','H'] \n",
    "graph['H'] = ['G','E'] \n",
    "graph['E'] = ['C','H'] \n",
    "graph['F'] = ['C','G'] \n",
    "graph['C'] = ['D','S','E','F'] \n",
    "print(graph)    \n",
    "\n",
    "def depth_first_search(graph, root): \n",
    "    visited_vertices = list() \n",
    "    graph_stack = list() \n",
    "\n",
    "    graph_stack.append(root) \n",
    "    print(graph_stack)\n",
    "    x = graph_stack.pop()\n",
    "    print(x)\n",
    "    node = root\n",
    "\n",
    "depth_first_search(graph, \"A\")\n",
    "'''\n",
    "\n",
    "    while len(graph_stack) > 0: \n",
    "\n",
    "        if node not in visited_vertices: \n",
    "            visited_vertices.append(node) \n",
    "\n",
    "        adj_nodes = graph[node] \n",
    "\n",
    "\n",
    "        if set(adj_nodes).issubset(set(visited_vertices)): \n",
    "            graph_stack.pop() \n",
    "        if len(graph_stack) > 0: \n",
    "            node = graph_stack[-1] \n",
    "            continue \n",
    "        else: \n",
    "            remaining_elements = \n",
    "            set(adj_nodes).difference(set(visited_vertices)) \n",
    "\n",
    "\n",
    "        first_adj_node = sorted(remaining_elements)[0] \n",
    "        graph_stack.append(first_adj_node) \n",
    "        node = first_adj_node \n",
    "            return visited_vertices \n",
    "\n",
    "if set(adj_nodes).issubset(set(visited_vertices)): \n",
    "    graph_stack.pop() \n",
    "    if len(graph_stack) > 0: \n",
    "        node = graph_stack[-1] \n",
    "    continue \n",
    "\n",
    "first_adj_node = sorted(remaining_elements)[0] \n",
    "graph_stack.append(first_adj_node) \n",
    "node = first_adj_node \n",
    "'''"
   ]
  },
  {
   "cell_type": "code",
   "execution_count": 12,
   "metadata": {
    "collapsed": false
   },
   "outputs": [
    {
     "ename": "SyntaxError",
     "evalue": "invalid syntax (<ipython-input-12-32cb63458c57>, line 2)",
     "traceback": [
      "\u001b[0;36m  File \u001b[0;32m\"<ipython-input-12-32cb63458c57>\"\u001b[0;36m, line \u001b[0;32m2\u001b[0m\n\u001b[0;31m    import Lib/queue\u001b[0m\n\u001b[0m              ^\u001b[0m\n\u001b[0;31mSyntaxError\u001b[0m\u001b[0;31m:\u001b[0m invalid syntax\n"
     ],
     "output_type": "error"
    }
   ],
   "source": [
    "# depth-first search\n",
    "import Lib/queue\n",
    "def dfs():\n",
    "    print(\"dfs\")\n",
    "    # the queue first in, last out \n",
    "    q = queue.Queue()\n",
    "    q.put(\"abc\")\n",
    "    q.put(\"def\")\n",
    "    x = q.get()\n",
    "    print (x)\n",
    "    \n",
    "dfs()    "
   ]
  },
  {
   "cell_type": "code",
   "execution_count": 13,
   "metadata": {
    "collapsed": false
   },
   "outputs": [
    {
     "name": "stdout",
     "output_type": "stream",
     "text": [
      "\n",
      "\n",
      "\n",
      "ITERATION  0\n",
      "4   .   .   .   .   .   8   .   5   \n",
      ".   3   .   .   .   .   .   .   .   \n",
      ".   .   .   7   .   .   .   .   .   \n",
      ".   2   .   .   .   .   .   6   .   \n",
      ".   .   .   .   8   .   4   .   .   \n",
      ".   .   .   .   1   .   .   .   .   \n",
      ".   .   .   6   .   3   .   7   .   \n",
      "5   .   .   2   .   .   .   .   .   \n",
      "1   .   4   .   .   .   .   .   .   \n",
      "\n",
      "\n",
      "\n",
      " ITERATION  0\n",
      "a2 replace  .  with  6719\n",
      "a3 replace  .  with  67219\n",
      "a4 replace  .  with  931\n",
      "a5 replace  .  with  6239\n",
      "a6 replace  .  with  6219\n",
      "a8 replace  .  with  9231\n",
      "b1 replace  .  with  67298\n",
      "b3 replace  .  with  1689257\n",
      "b4 replace  .  with  95418\n",
      "b5 replace  .  with  65249\n",
      "b6 replace  .  with  1689245\n",
      "b7 replace  .  with  67219\n",
      "b8 replace  .  with  9214\n",
      "b9 replace  .  with  169247\n",
      "c1 replace  .  with  6298\n",
      "c2 replace  .  with  65918\n",
      "c3 replace  .  with  168925\n",
      "c5 replace  .  with  692345\n",
      "c6 replace  .  with  1689245\n",
      "c7 replace  .  with  62319\n",
      "c8 replace  .  with  92314\n",
      "c9 replace  .  with  169234\n",
      "d1 replace  .  with  9738\n",
      "d3 replace  .  with  189357\n",
      "d4 replace  .  with  9534\n",
      "d5 replace  .  with  97534\n",
      "d6 replace  .  with  9754\n",
      "d7 replace  .  with  97531\n",
      "d9 replace  .  with  97318\n",
      "e1 replace  .  with  6739\n",
      "e2 replace  .  with  67519\n",
      "e3 replace  .  with  169357\n",
      "e4 replace  .  with  953\n",
      "e6 replace  .  with  67529\n",
      "e8 replace  .  with  59231\n",
      "e9 replace  .  with  97231\n",
      "f1 replace  .  with  67398\n",
      "f2 replace  .  with  689457\n",
      "f3 replace  .  with  689357\n",
      "f4 replace  .  with  9534\n",
      "f6 replace  .  with  692457\n",
      "f7 replace  .  with  59723\n",
      "f8 replace  .  with  59238\n",
      "f9 replace  .  with  97238\n",
      "g1 replace  .  with  928\n",
      "g2 replace  .  with  98\n",
      "g3 replace  .  with  928\n",
      "g5 replace  .  with  954\n",
      "g7 replace  .  with  9521\n",
      "g9 replace  .  with  94218\n",
      "h2 replace  .  with  6798\n",
      "h3 replace  .  with  67398\n",
      "h5 replace  .  with  974\n",
      "h6 replace  .  with  97418\n",
      "h7 replace  .  with  6319\n",
      "h8 replace  .  with  94318\n",
      "h9 replace  .  with  168934\n",
      "i2 replace  .  with  6798\n",
      "i4 replace  .  with  958\n",
      "i5 replace  .  with  975\n",
      "i6 replace  .  with  9758\n",
      "i7 replace  .  with  56239\n",
      "i8 replace  .  with  59238\n",
      "i9 replace  .  with  62398\n",
      "\n",
      "\n",
      "\n",
      " only_choice\n",
      "4   6719   67219   931   6239   6219   8   9231   5   \n",
      "67298   3   1689257   95418   65249   1689245   67219   9214   169247   \n",
      "6298   65918   168925   7   692345   1689245   62319   92314   169234   \n",
      "9738   2   189357   9534   97534   9754   97531   6   97318   \n",
      "6739   67519   169357   953   8   67529   4   59231   97231   \n",
      "67398   689457   689357   9534   1   692457   59723   59238   97238   \n",
      "928   98   928   6   954   3   9521   7   94218   \n",
      "5   6798   67398   2   974   97418   6319   94318   168934   \n",
      "1   6798   4   958   975   9758   56239   59238   62398   \n"
     ]
    }
   ],
   "source": [
    "for i in range(1):\n",
    "    print(\"\\n\\n\\nITERATION \", i)\n",
    "    flag1 = constraint()\n",
    "    flag2 = only_choice()\n",
    "    '''\n",
    "    if (flag1 == False and flag2 == False):\n",
    "        print_sudoku() \n",
    "        print ('NAKED_TWINS')\n",
    "        naked_twins()\n",
    "        print_sudoku()\n",
    "        constraint()\n",
    "        print('CONSTRAINT')\n",
    "        print_sudoku()\n",
    "        print(i)\n",
    "        break\n",
    "    '''\n",
    "def print_sudoku1():\n",
    "    all_rows = ''\n",
    "    for r in row:\n",
    "        one_row = ''\n",
    "        \n",
    "        for c in column:\n",
    "            one_row += (dictn[r+c])\n",
    "        all_rows += (one_row +',' ) \n",
    "    print(all_rows)\n",
    "        \n",
    "print_sudoku() "
   ]
  },
  {
   "cell_type": "code",
   "execution_count": null,
   "metadata": {
    "collapsed": true
   },
   "outputs": [],
   "source": []
  },
  {
   "cell_type": "code",
   "execution_count": null,
   "metadata": {
    "collapsed": true
   },
   "outputs": [],
   "source": []
  }
 ],
 "metadata": {
  "anaconda-cloud": {},
  "kernelspec": {
   "display_name": "Python [conda root]",
   "language": "python",
   "name": "conda-root-py"
  },
  "language_info": {
   "codemirror_mode": {
    "name": "ipython",
    "version": 3
   },
   "file_extension": ".py",
   "mimetype": "text/x-python",
   "name": "python",
   "nbconvert_exporter": "python",
   "pygments_lexer": "ipython3",
   "version": "3.5.2"
  }
 },
 "nbformat": 4,
 "nbformat_minor": 1
}
